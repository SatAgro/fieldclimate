{
 "cells": [
  {
   "cell_type": "markdown",
   "metadata": {
    "collapsed": true,
    "slideshow": {
     "slide_type": "slide"
    }
   },
   "source": [
    "# SatAgro Klient API Metos\n",
    "Marcin Gałązka, Marcin Borowiec\n"
   ]
  },
  {
   "cell_type": "markdown",
   "metadata": {
    "slideshow": {
     "slide_type": "slide"
    }
   },
   "source": [
    "## Fieldclimate\n",
    "- fieldclimate jest platforma internetowa stworzona do obsługi systemów monitorujących marki METOS(tzw. stacje meteorologiczne)\n",
    "- systemy monitorujące są urządzeniami wyposażonymi w różnego rodzaju wyspecjalizowane sensory dokonujące pomiarów określonej wartości fizycznej środowiska(np. model iMETOS IMT80 posiada wbudowany czujnik temperatury powietrza i wskaźnik opadów )\n",
    "- systemy monitorujace nawiazuja polaczenie z serwerem meteos(wykorzystujac np. sieć GSM) pobierając z niego konfiguracje oraz przesyłając zebrane dane w zaplanowanych, skonfigurowanych w fieldclimate terminach(godziny)\n"
   ]
  },
  {
   "cell_type": "markdown",
   "metadata": {
    "slideshow": {
     "slide_type": "slide"
    }
   },
   "source": [
    "## Fieldclimate\n",
    "imeteos imt200 | imeteos imt300\n",
    "- | - \n",
    "![alt](presentation/imetos_imt200.jpg) | ![alt](presentation/imetos_imt300.jpg)"
   ]
  },
  {
   "cell_type": "markdown",
   "metadata": {
    "slideshow": {
     "slide_type": "slide"
    }
   },
   "source": [
    "## Najważniejsze technologie i narzędzia\n",
    "- asyncio(asynchronous input/output)\n",
    "- oauth2, hmac(metody autoryzacja użytkowników w serwisie)\n",
    "- marshmallow(narzędzie do budowania schematów modeli)\n",
    "\n"
   ]
  },
  {
   "cell_type": "markdown",
   "metadata": {
    "slideshow": {
     "slide_type": "slide"
    }
   },
   "source": [
    "## Asyncio\n",
    "- Asynchronous input/output\n",
    "- Umożliwia tworzenie konkurencyjnych aplikacji przy użyciu korutyn(coroutines)\n",
    "- Stosuje jednowątkowe, jednoprocesorowe podejście w którym czesci aplikacji wspolpracuja ze soba tak aby sterowanie programu przechodzi między zadaniami w odpowiednim czasie(np. blokujące operacje wejscia/wyjscia, planowanie zadań na odpowiedni czas, obsługa sygnałów itp).\n"
   ]
  },
  {
   "cell_type": "markdown",
   "metadata": {
    "slideshow": {
     "slide_type": "slide"
    }
   },
   "source": [
    "## Asyncio\n",
    "##### Eventloops\n",
    "- główny element asyncio\n",
    "- odpowiada za zmianę kontekstu między zadaniami, obsługę sygnałów i blokujących operacji\n",
    "- aplikacja rejestruje zadania w eventloop przekazując odpowiedzialność za wywołanie kodu ww. zadań gdy pewne zasoby systemowe będą dostępne\n",
    "\n"
   ]
  },
  {
   "cell_type": "markdown",
   "metadata": {
    "slideshow": {
     "slide_type": "slide"
    }
   },
   "source": [
    "## Asyncio\n",
    "##### Eventloops - przykład\n",
    "Serwer sieciowy otwiera sockety, rejestruje kod który powinien być wykonany gdy operacja wejścia będzie dostępna w eventloop. Eventloop zarządza zmiana kontekstu wykonywania aplikacji. W momencie, w którym pojawia się dane, które można przeczytać eventloop przenosi sterowanie do wyżej wspomnianego kodu. Po przeczytaniu danych i wykonaniu na nich potrzebnych operacji sterowanie powraca do eventloop(np. gdy kod czeka na kolejna porcje danych).\n",
    "\n"
   ]
  },
  {
   "cell_type": "markdown",
   "metadata": {
    "slideshow": {
     "slide_type": "slide"
    }
   },
   "source": [
    "## Asyncio\n",
    "##### Coroutines\n",
    "- Eventloop swoje działanie opiera na korutynach\n",
    "- korutyny to specjalne funkcje, które mogą przekazać kontrolę do wywołującego nie tracąc przy tym swojego stanu\n",
    "- podobne do generatorów\n",
    "\n",
    "\n"
   ]
  },
  {
   "cell_type": "markdown",
   "metadata": {
    "slideshow": {
     "slide_type": "slide"
    }
   },
   "source": [
    "## Asyncio\n",
    "##### Coroutines - cd\n",
    "- Tworzymy je przy użyciu słowa kluczowego async\n",
    "- Innym ważnym słowem kluczowym jest await(odpowiednik yeld from dla generatorów). Await sygnalizuje, ze dana korutyna czeka na wynik wykonania pewnego zadania(np. innej korutyny, tasku, feature; wbudowane obiekty na ktore mozna dokonac await np. obiekty reprezentujące operacja wejscia/wyjscia itp.) \n",
    "\n",
    "\n"
   ]
  },
  {
   "cell_type": "code",
   "execution_count": 13,
   "metadata": {
    "scrolled": false,
    "slideshow": {
     "slide_type": "slide"
    }
   },
   "outputs": [
    {
     "name": "stdout",
     "output_type": "stream",
     "text": [
      "0 in\n",
      "1 in\n",
      "1 out\n",
      "0 out\n",
      "wait\n",
      "done\n"
     ]
    }
   ],
   "source": [
    "import asyncio\n",
    "\n",
    "async def sub0():\n",
    "    print('0 in')\n",
    "    await asyncio.sleep(10)\n",
    "    print('0 out')\n",
    "\n",
    "\n",
    "async def sub1():\n",
    "    print('1 in')\n",
    "    print('1 out')\n",
    "    \n",
    "async def concurrency():\n",
    "    task0 = asyncio.get_event_loop().create_task(sub0())\n",
    "    task1 = asyncio.get_event_loop().create_task(sub1())\n",
    "    await asyncio.sleep(20)\n",
    "    print('wait')\n",
    "    await task0\n",
    "    await task1\n",
    "    print('done')\n",
    "    \n",
    "loop = asyncio.new_event_loop()\n",
    "loop.run_until_complete(concurrency())\n",
    "loop.close()"
   ]
  },
  {
   "cell_type": "code",
   "execution_count": 6,
   "metadata": {
    "scrolled": true,
    "slideshow": {
     "slide_type": "slide"
    }
   },
   "outputs": [
    {
     "name": "stdout",
     "output_type": "stream",
     "text": [
      "wait\n",
      "0 in\n",
      "0 out\n",
      "1 in\n",
      "1 out\n",
      "done\n"
     ]
    }
   ],
   "source": [
    "import asyncio\n",
    "\n",
    "async def sub0():\n",
    "    print('0 in')\n",
    "    await asyncio.sleep(10)\n",
    "    print('0 out')\n",
    "\n",
    "\n",
    "async def sub1():\n",
    "    print('1 in')\n",
    "    print('1 out')\n",
    "    \n",
    "async def noconcurrency():\n",
    "    print('wait')\n",
    "    await sub0()\n",
    "    await sub1()\n",
    "    print('done')\n",
    "    \n",
    "loop = asyncio.new_event_loop()\n",
    "loop.run_until_complete(noconcurrency())\n",
    "loop.close()"
   ]
  },
  {
   "cell_type": "code",
   "execution_count": 7,
   "metadata": {
    "scrolled": false,
    "slideshow": {
     "slide_type": "slide"
    }
   },
   "outputs": [
    {
     "name": "stdout",
     "output_type": "stream",
     "text": [
      "Sensor Wind direction has tag 3_X_X_143 and supports the following aggregations: ['avg', 'last']\n",
      "Sensor Solar Panel has tag 4_X_X_30 and supports the following aggregations: ['last']\n",
      "Sensor Wind speed has tag 6_X_X_5 and supports the following aggregations: ['avg', 'max']\n",
      "Sensor Battery has tag 7_X_X_7 and supports the following aggregations: ['last']\n",
      "Sensor Leaf Wetness has tag 8_X_X_4 and supports the following aggregations: ['time']\n",
      "Sensor HC Serial Number has tag 13_X_X_508 and supports the following aggregations: ['last']\n",
      "Sensor HC Air temperature has tag 14_X_X_506 and supports the following aggregations: ['avg', 'max', 'min']\n",
      "Sensor HC Relative humidity has tag 15_X_X_507 and supports the following aggregations: ['avg', 'max', 'min']\n",
      "Sensor Dew Point has tag 16_X_X_21 and supports the following aggregations: ['avg', 'min']\n",
      "Sensor HC Serial Number has tag 17_X_X_508 and supports the following aggregations: ['last']\n",
      "Sensor HC Air temperature has tag 18_X_X_506 and supports the following aggregations: ['avg', 'max', 'min']\n",
      "Sensor HC Relative humidity has tag 19_X_X_507 and supports the following aggregations: ['avg', 'max', 'min']\n",
      "Sensor Dew Point has tag 20_X_X_21 and supports the following aggregations: ['avg', 'min']\n",
      "Sensor Latitude has tag 21_X_X_650 and supports the following aggregations: ['last']\n",
      "Sensor Longitude has tag 22_X_X_651 and supports the following aggregations: ['last']\n",
      "Sensor Altitude has tag 23_X_X_652 and supports the following aggregations: ['last']\n",
      "Sensor Horizontal dilusion of position has tag 24_X_X_659 and supports the following aggregations: ['last']\n",
      "Sensor VPD has tag 25_X_X_25 and supports the following aggregations: ['avg', 'min']\n",
      "Sensor VPD has tag 26_X_X_25 and supports the following aggregations: ['avg', 'min']\n",
      "Sensor Wind speed max has tag 31_X_X_49 and supports the following aggregations: ['max']\n",
      "Sensor DeltaT has tag 34_X_X_27 and supports the following aggregations: ['avg', 'max', 'min']\n",
      "Sensor DeltaT has tag 35_X_X_27 and supports the following aggregations: ['avg', 'max', 'min']\n",
      "Sensor Sensor board battery has tag 10014_0004A3EF7377_X_33798 and supports the following aggregations: ['last']\n",
      "Sensor Input number has tag 10016_0004A3EF7377_X_16388 and supports the following aggregations: ['last']\n",
      "Sensor Soil media has tag 10017_0004A3EF7377_X_16387 and supports the following aggregations: ['last']\n",
      "Sensor 10HS VWC has tag 10018_0004A3EF7377_X_24321 and supports the following aggregations: ['avg']\n",
      "Sensor Input number has tag 10019_0004A3EF7377_X_16388 and supports the following aggregations: ['last']\n",
      "Sensor 5TE Soil temperature has tag 10020_0004A3EF7377_X_30740 and supports the following aggregations: ['avg', 'max', 'min']\n",
      "Sensor 5TE El permittivity has tag 10021_0004A3EF7377_X_30737 and supports the following aggregations: ['avg']\n",
      "Sensor 5TE EL conductivity has tag 10022_0004A3EF7377_X_30738 and supports the following aggregations: ['avg']\n",
      "Sensor Soil media has tag 10023_0004A3EF7377_X_16387 and supports the following aggregations: ['last']\n",
      "Sensor 5TE Water content has tag 10024_0004A3EF7377_X_30739 and supports the following aggregations: ['avg']\n",
      "Sensor Input number has tag 10025_0004A3EF7377_X_16388 and supports the following aggregations: ['last']\n",
      "Sensor Soil media has tag 10026_0004A3EF7377_X_16387 and supports the following aggregations: ['last']\n",
      "Sensor EC-5 Soil moisture has tag 10027_0004A3EF7377_X_34562 and supports the following aggregations: ['avg', 'max', 'min']\n"
     ]
    }
   ],
   "source": [
    "import asyncio\n",
    "from fieldclimate.connection.hmac import HMAC\n",
    "from fieldclimate.connection.oauth2 import OAuth2, WebBasedProvider\n",
    "import os\n",
    "\n",
    "public_key = os.environ['FIELDCLIMATE_HAMAC_PUBLIC']\n",
    "private_key = os.environ['FIELDCLIMATE_HAMAC_PRIVATE']\n",
    "\n",
    "async def hmac():\n",
    "    async with HMAC(public_key, private_key) as client:\n",
    "        stations = await client.user.list_of_user_devices()\n",
    "        station_id = stations.response[0]['name']['original']\n",
    "        station_data = await client.data.get_last_data(station_id, 'daily', '1w', 'optimized')\n",
    "        for (sensor_tag, sensor) in station_data.response['data'].items():\n",
    "            print('Sensor {} has tag {} and supports the following aggregations: {}'.format(\n",
    "                sensor['name'], sensor_tag, list(sensor['aggr'].keys())\n",
    "            ))\n",
    "    \n",
    "loop = asyncio.new_event_loop()\n",
    "loop.run_until_complete(hmac())\n",
    "loop.close()"
   ]
  },
  {
   "cell_type": "markdown",
   "metadata": {
    "slideshow": {
     "slide_type": "slide"
    }
   },
   "source": [
    "## Uwierzytelnianie hmac/oauth2\n",
    "\n",
    "##### Hmac(hash-based message authentication code)\n",
    "- specjalny typ MAC(message authentication code)\n",
    "- pozwala na zagwarantowanie integralności danych jak i uwierzytelnia nadawcę\n",
    "- moze wykorzystywac dowolna haszujaca funkcje kryptograficzna(np. SHA-256) \n",
    "\n",
    "\n"
   ]
  },
  {
   "cell_type": "markdown",
   "metadata": {
    "slideshow": {
     "slide_type": "slide"
    }
   },
   "source": [
    "## Uwierzytelnianie hmac/oauth2\n",
    "\n",
    "##### Hmac - definicja(RFC 2104)\n",
    "![](presentation/hmac.png)\n",
    "\n",
    "  K - sekret  \n",
    "  H - funkcja haszujaca  \n",
    "  opad/ipad - pewny pad  \n",
    "  m - wiadomosc\n",
    "\n",
    "\n"
   ]
  },
  {
   "cell_type": "code",
   "execution_count": null,
   "metadata": {
    "slideshow": {
     "slide_type": "slide"
    }
   },
   "outputs": [],
   "source": [
    "from datetime import datetime\n",
    "\n",
    "from Crypto.Hash import SHA256, HMAC as HASH_HMAC\n",
    "\n",
    "from fieldclimate.connection.base import ConnectionBase\n",
    "\n",
    "\n",
    "class HMAC(ConnectionBase):\n",
    "\n",
    "    def __init__(self, public_key, private_key):\n",
    "        self._publicKey = public_key\n",
    "        self._privateKey = private_key\n",
    "\n",
    "    def _modify_request(self, request):\n",
    "        date_stamp = datetime.utcnow().strftime('%a, %d %b %Y %H:%M:%S GMT')\n",
    "        request.headers['Date'] = date_stamp\n",
    "        msg = '{}/{}{}{}'.format(request.method, request.route, date_stamp, self._publicKey).encode(encoding='utf-8')\n",
    "        h = HASH_HMAC.new(self._privateKey.encode(encoding='utf-8'), msg, SHA256)\n",
    "        signature = h.hexdigest()\n",
    "        request.headers['Authorization'] = 'hmac {}:{}'.format(self._publicKey, signature)\n",
    "\n"
   ]
  },
  {
   "cell_type": "markdown",
   "metadata": {
    "slideshow": {
     "slide_type": "slide"
    }
   },
   "source": [
    "## Uwierzytelnianie hmac/oauth2\n",
    "\n",
    "##### Oauth2\n",
    "- wiadomosci sa uwierzytelnianie za pomocą tokena dostępu(access_token)\n",
    "- access_token jest dostarczany do serwera wraz z wiadomością(np. w nagłówku http)\n",
    "- access_token można pozyskać na kilka sposobów(grant type) w zależności od tego co obsługuje serwis, moze sie zdarzyc, ze serwer wydający tokeny(token server) i serwis przyjmujący zapytania http to różne instancje\n",
    "\n",
    "\n",
    "\n"
   ]
  },
  {
   "cell_type": "markdown",
   "metadata": {
    "slideshow": {
     "slide_type": "slide"
    }
   },
   "source": [
    "## Uwierzytelnianie hmac/oauth2\n",
    "\n",
    "##### Oauth2 - przykładowy workflow\n",
    "- klient aplikacji probuje uzyskac access_token od token serwer przestrzegając obsługiwanych protokołów(np. przesyła nazwę uzytkownika i haslo, inna metoda to przesyłanie pewnego pośredniego tokena - access_code)\n",
    "- jeżeli wszystko jest ok token serwer zwraca petentowi access_token oraz refresh_token. Access_token ma pewien ograniczony czas życia, gdy się wyczerpie petent może uzyskać nowy access_token przy użyciu refresh_token, z pominięciem bardziej czasochłonnych ww. natywnych metod.\n",
    "- klient wykonuje zapytania http do serwera wykonującego właściwe usługi(np. o podanie danych stacji) identyfikując się access_token.\n",
    "\n",
    "\n",
    "\n",
    "\n"
   ]
  },
  {
   "cell_type": "code",
   "execution_count": null,
   "metadata": {
    "slideshow": {
     "slide_type": "slide"
    }
   },
   "outputs": [],
   "source": [
    "import asyncio\n",
    "import webbrowser\n",
    "from abc import ABC, abstractmethod\n",
    "\n",
    "from aiohttp import web\n",
    "\n",
    "from fieldclimate.connection.base import ConnectionBase\n",
    "from fieldclimate.reqresp import ResponseException\n",
    "from fieldclimate.tools import get_credentials\n",
    "\n",
    "credentials = get_credentials()\n",
    "client_id = credentials['client_id']\n",
    "client_secret = credentials['client_secret']\n",
    "auth_url = 'https://oauth.fieldclimate.com/authorize?response_type=code&client_id={}&state=xyz'.format(client_id)\n",
    "ww\n",
    "\n",
    "class AuthCodeProvider(ABC):\n",
    "\n",
    "    @abstractmethod\n",
    "    async def get_auth_code(self):\n",
    "        pass\n",
    "\n",
    "\n",
    "class SimpleProvider(AuthCodeProvider):\n",
    "    def __init__(self, auth_code):\n",
    "        self._auth_code = auth_code\n",
    "\n",
    "    async def get_auth_code(self):\n",
    "        return self._auth_code\n",
    "\n",
    "\n",
    "class WebBasedProvider(AuthCodeProvider):\n",
    "    default_port = 5555\n",
    "\n",
    "    def __init__(self):\n",
    "        self._port = self.default_port\n",
    "        self._app = self._make_app()\n",
    "        self._event = None\n",
    "        self._auth_code = None\n",
    "\n",
    "    async def _handle_get(self, request):\n",
    "        self._auth_code = request.query.get('code', None)\n",
    "        if self._auth_code is not None:\n",
    "            self._event.set()\n",
    "        return web.Response(text='Received code {}'.format(self._auth_code))\n",
    "\n",
    "    def _make_app(self):\n",
    "        app = web.Application()\n",
    "        app.add_routes([web.get('/', self._handle_get)])\n",
    "        app.add_routes([web.get('/oauth2/callback', self._handle_get)])\n",
    "        return app\n",
    "\n",
    "    async def get_auth_code(self):\n",
    "        self._event = asyncio.Event()\n",
    "        loop = asyncio.get_event_loop()\n",
    "        server = await loop.create_server(self._app.make_handler(), None, self._port)\n",
    "        webbrowser.open(auth_url)\n",
    "        await self._event.wait()\n",
    "        server.close()\n",
    "        return self._auth_code\n",
    "\n",
    "\n",
    "class OAuth2(ConnectionBase):\n",
    "    def __init__(self, auth_code_provider):\n",
    "        self._auth_code_provider = auth_code_provider\n",
    "        self._access_token = None\n",
    "        self._refresh_token = None\n",
    "\n",
    "    async def _get_token(self):\n",
    "        if self._refresh_token is not None:\n",
    "            params = {\n",
    "                'client_id': client_id,\n",
    "                'client_secret': client_secret,\n",
    "                'grant_type': 'refresh_token',\n",
    "                'refresh_token': self._refresh_token\n",
    "            }\n",
    "        else:\n",
    "            params = {\n",
    "                'client_id': client_id,\n",
    "                'client_secret': client_secret,\n",
    "                'grant_type': 'authorization_code',\n",
    "                'code': await self._auth_code_provider.get_auth_code()\n",
    "            }\n",
    "        result = await self._session.request('POST', 'https://oauth.fieldclimate.com/token', data=params)\n",
    "        response = await result.json(\n",
    "            content_type=None)\n",
    "        if result.status >= 300:\n",
    "            raise ResponseException(result.status, response)\n",
    "        self._access_token = response['access_token']\n",
    "        self._refresh_token = response['refresh_token']\n",
    "\n",
    "    def _modify_request(self, request):\n",
    "        request.headers['Authorization'] = 'Authorization: Bearer {}'.format(self._access_token)\n",
    "\n",
    "    async def _make_request(self, method, route, data=None):\n",
    "        if self._access_token is None:\n",
    "            await self._get_token()\n",
    "        try:\n",
    "            response = await super()._make_request(method, route, data)\n",
    "        except ResponseException as e:\n",
    "            if e.code == 401:\n",
    "                await self._get_token()\n",
    "                response = await super()._make_request(method, route, data)\n",
    "            else:\n",
    "                raise\n",
    "        return response\n"
   ]
  },
  {
   "cell_type": "code",
   "execution_count": 14,
   "metadata": {
    "slideshow": {
     "slide_type": "slide"
    }
   },
   "outputs": [
    {
     "name": "stdout",
     "output_type": "stream",
     "text": [
      "On month 2018-03-01 00:00:00 the precipitation sum was 205.4 mm.\n",
      "On month 2018-04-01 00:00:00 the precipitation sum was 80 mm.\n",
      "On month 2018-05-01 00:00:00 the precipitation sum was 77 mm.\n",
      "On month 2018-06-01 00:00:00 the precipitation sum was 73.4 mm.\n",
      "On month 2018-07-01 00:00:00 the precipitation sum was 27.2 mm.\n",
      "On month 2018-08-01 00:00:00 the precipitation sum was 53.8 mm.\n",
      "On month 2018-09-01 00:00:00 the precipitation sum was 69.6 mm.\n",
      "On month 2018-10-01 00:00:00 the precipitation sum was 214.4 mm.\n",
      "On month 2018-11-01 00:00:00 the precipitation sum was 239.2 mm.\n",
      "On month 2018-12-01 00:00:00 the precipitation sum was 37 mm.\n",
      "On month 2019-01-01 00:00:00 the precipitation sum was 47.8 mm.\n",
      "On month 2019-02-01 00:00:00 the precipitation sum was 132.8 mm.\n"
     ]
    }
   ],
   "source": [
    "import asyncio\n",
    "from fieldclimate.connection.hmac import HMAC\n",
    "from fieldclimate.connection.oauth2 import OAuth2, WebBasedProvider\n",
    "\n",
    "async def oauth2():\n",
    "    async with OAuth2(WebBasedProvider()) as client:\n",
    "        stations = await client.user.list_of_user_devices()\n",
    "        station_id = stations.response[1]['name']['original']\n",
    "        station_data = await client.data.get_last_data(station_id, 'monthly', '12m', 'optimized')\n",
    "        dates = station_data.response['dates']\n",
    "        sensor_tag = '5_X_X_6'\n",
    "        unit = station_data.response['data'][sensor_tag]['unit']\n",
    "        precipitation_sums = station_data.response['data'][sensor_tag]['aggr']['sum']\n",
    "        for (date, precipitation_sum) in zip(dates, precipitation_sums):\n",
    "            print('On month {} the precipitation sum was {} {}.'.format(\n",
    "                date, precipitation_sum, unit\n",
    "            ))\n",
    "    \n",
    "loop = asyncio.new_event_loop()\n",
    "loop.run_until_complete(oauth2())\n",
    "loop.close()"
   ]
  },
  {
   "cell_type": "markdown",
   "metadata": {
    "slideshow": {
     "slide_type": "slide"
    }
   },
   "source": [
    "## Marshmallow\n",
    "\n",
    "- biblioteka do serializacji/ deserializacji zlozonych obiektow z/do wbudowanych obiektow pythonowych(co jest przydatne podczas parsowania danych zapisanych w jsonie)\n",
    "- podobna w dzialaniu do ORM(object relation mapping/maper)\n",
    "- wykorzystuje schematy danych, ktore sa odpowiednikiem jsonschema\n",
    "\n",
    "\n",
    "\n",
    "\n"
   ]
  },
  {
   "cell_type": "code",
   "execution_count": null,
   "metadata": {
    "slideshow": {
     "slide_type": "slide"
    }
   },
   "outputs": [],
   "source": [
    "from marshmallow import Schema, fields, post_load\n",
    "\n",
    "from fieldclimate.models.user import UserInfo, UserSettings, User, UserCompany, UserAddress\n",
    "\n",
    "\n",
    "class UserInfoSchema(Schema):\n",
    "    name = fields.String(required=True)\n",
    "    lastname = fields.String(required=True)\n",
    "    email = fields.String(required=True)\n",
    "    title = fields.String(allow_none=True)\n",
    "    phone = fields.String(allow_none=True)\n",
    "    cellphone = fields.String(allow_none=True)\n",
    "    fax = fields.String(allow_none=True)\n",
    "\n",
    "    @post_load\n",
    "    def make_user(self, data):\n",
    "        return UserInfo(**data)\n",
    "\n",
    "\n",
    "class UserCompanySchema(Schema):\n",
    "    name = fields.String(required=True, allow_none=True)\n",
    "    profession = fields.String(allow_none=True)\n",
    "    department = fields.String(allow_none=True)\n",
    "\n",
    "    @post_load\n",
    "    def make_user(self, data):\n",
    "        return UserCompany(**data)\n",
    "\n",
    "\n",
    "class UserAddressSchema(Schema):\n",
    "    country = fields.String(required=True)\n",
    "    street = fields.String(allow_none=True)\n",
    "    city = fields.String(allow_none=True)\n",
    "    district = fields.String(allow_none=True)\n",
    "    zip = fields.String(allow_none=True)\n",
    "\n",
    "    @post_load\n",
    "    def make_user(self, data):\n",
    "        return UserAddress(**data)\n",
    "\n",
    "\n",
    "class UserSettingsSchema(Schema):\n",
    "    language = fields.String(required=True)\n",
    "    newsletter = fields.Boolean()\n",
    "    # Is this required or optional?\n",
    "    unit_system = fields.String(required=True)\n",
    "\n",
    "    @post_load\n",
    "    def make_user(self, data):\n",
    "        return UserSettings(**data)\n",
    "\n",
    "\n",
    "class UserSchema(Schema):\n",
    "    username = fields.String(required=True)\n",
    "    created_at = fields.String()\n",
    "    created_by = fields.String()\n",
    "    create_time = fields.String()\n",
    "    last_access = fields.String()\n",
    "    info = fields.Nested(UserInfoSchema, required=True)\n",
    "    company = fields.Nested(UserCompanySchema, required=True)\n",
    "    address = fields.Nested(UserAddressSchema, required=True)\n",
    "    settings = fields.Nested(UserSettingsSchema, required=True)\n",
    "\n",
    "    @post_load\n",
    "    def make_user(self, data):\n",
    "        return User(**data)\n"
   ]
  },
  {
   "cell_type": "code",
   "execution_count": 12,
   "metadata": {
    "slideshow": {
     "slide_type": "slide"
    }
   },
   "outputs": [
    {
     "name": "stdout",
     "output_type": "stream",
     "text": [
      "<class 'fieldclimate.models.user.User'>\n",
      "Demo\n"
     ]
    }
   ],
   "source": [
    "import asyncio\n",
    "from fieldclimate.connection.hmac import HMAC\n",
    "from fieldclimate.connection.oauth2 import OAuth2, WebBasedProvider\n",
    "from fieldclimate.schemas.user import UserSchema\n",
    "import os\n",
    "\n",
    "public_key = os.environ['FIELDCLIMATE_HAMAC_PUBLIC']\n",
    "private_key = os.environ['FIELDCLIMATE_HAMAC_PRIVATE']\n",
    "\n",
    "async def schema():\n",
    "    async with HMAC(public_key, private_key) as client:\n",
    "        user_response = await client.user.user_information()\n",
    "        response = user_response.response\n",
    "        schema = UserSchema()\n",
    "        result = schema.load(response)\n",
    "        user = result.data\n",
    "        print(type(user))\n",
    "        print(user.info.name)\n",
    "    \n",
    "loop = asyncio.new_event_loop()\n",
    "loop.run_until_complete(schema())\n",
    "loop.close()"
   ]
  },
  {
   "cell_type": "code",
   "execution_count": null,
   "metadata": {},
   "outputs": [],
   "source": []
  }
 ],
 "metadata": {
  "anaconda-cloud": {},
  "celltoolbar": "Slideshow",
  "kernelspec": {
   "display_name": "Python 3",
   "language": "python",
   "name": "python3"
  },
  "language_info": {
   "codemirror_mode": {
    "name": "ipython",
    "version": 3
   },
   "file_extension": ".py",
   "mimetype": "text/x-python",
   "name": "python",
   "nbconvert_exporter": "python",
   "pygments_lexer": "ipython3",
   "version": "3.6.7"
  }
 },
 "nbformat": 4,
 "nbformat_minor": 1
}
